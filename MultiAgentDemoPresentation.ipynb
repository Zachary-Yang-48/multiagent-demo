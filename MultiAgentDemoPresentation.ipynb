{
 "cells": [
  {
   "cell_type": "markdown",
   "metadata": {
    "slideshow": {
     "slide_type": "slide"
    }
   },
   "source": [
    "# Connecting the Bots\n",
    "## Jacob Albrecht\n",
    "### Applied Intelligence & Analytics, Bristol Myers Squibb\n",
    "#### April 12, 2025"
   ]
  },
  {
   "cell_type": "markdown",
   "metadata": {},
   "source": [
    "# Agenda for Todays Workshop\n",
    "\n",
    "## Overview of multi agent systems\n",
    " * Capabilities of MAS for pharma industry\n",
    " * Ingredients of MAS applications\n",
    "\n",
    "## Building a deep research agent (demo)\n",
    " * Surf the web and use \n",
    " * Get your computer ready to follow along\n",
    "\n",
    "\n",
    "### ⚠️ Caveat ⚠️  \n",
    "AI Agents is moving frontier:  this snapshot of capabilites from Q1'25 will become obsolete"
   ]
  },
  {
   "cell_type": "markdown",
   "metadata": {
    "slideshow": {
     "slide_type": "subslide"
    },
    "vscode": {
     "languageId": "markdown"
    }
   },
   "source": [
    "# This workshop uses the Autogen Framework\n",
    "\n",
    "Autogen is Microsoft's agentic framework designed to enable the development of intelligent agents. It provides tools and capabilities for creating autonomous systems that can interact, learn, and adapt to various tasks and environments. This framework is part of the broader effort to advance AI technologies and their applications in real-world scenarios.\n",
    "\n",
    "To follow along you'll need:\n",
    "\n",
    " - Linux, Mac, or Windows machine with Python 3.10 or above\n",
    " - An API key - this model uses keys from OpenRouter.ai \n",
    " - Install dependencies from terminal: \n",
    "\n",
    " `pip install openai autogen-agentchat autogen-ext[openai,magentic_one] autogenstudio `\n",
    "\n",
    " ### OR \n",
    "\n",
    " - Use/ create a personal GitHub.com account\n",
    " - Create a codespace from the repository at https://github.com/chepyle/multiagent-demo\n",
    "\n",
    "\n"
   ]
  },
  {
   "cell_type": "markdown",
   "metadata": {
    "slideshow": {
     "slide_type": "subslide"
    },
    "vscode": {
     "languageId": "plaintext"
    }
   },
   "source": [
    "## Creating a github codespace \n",
    "\n",
    " 1. Go to https://github.com/chepyle/multiagent-demo - contains all workshop materials \n",
    " 2. Click \"fork project\" to create your own copy\n",
    " 3. Click Code > Codespaces > Start Codespace from main branch \n",
    " \n",
    " <img src=\"./images/start_codespace.png\" width = 240>\n",
    " \n",
    " 4. Wait for codespace to boot and package installation\n",
    "\n",
    "## Running locally\n",
    "\n",
    " 1. Download project from https://github.com/chepyle/multiagent-demo\n",
    " 2. create python virtual environment \n",
    " 3. run `pip install -r requirements.txt` to install packages\n"
   ]
  },
  {
   "cell_type": "markdown",
   "metadata": {},
   "source": [
    "## AI applications for the Pharmaceutical Industry\n",
    "\n",
    "Healthcare is an huge opportuntiy for AI applications\n",
    "\n",
    " - General Research e.g. \n",
    "    - [AI Scientist](https://github.com/SakanaAI/AI-Scientist)\n",
    "    - [OpenAI's Deep Research](https://openai.com/index/introducing-deep-research/)\n",
    "    - [Google's AI co-Scientist](https://research.google/blog/accelerating-scientific-breakthroughs-with-an-ai-co-scientist/)\n",
    " - Discovery \n",
    "    - Drug Design\n",
    " - Development\n",
    "    - Molecular Property Prediction\n",
    "    - Process Simulation\n",
    " - Manufacturing\n",
    "    - Process Monitoring\n",
    "    - Supply Chain\n",
    " - Commercial / Enterprise\n",
    "    - IT Pipelines\n",
    "    - Forecasting\n",
    "    - Data Science\n"
   ]
  },
  {
   "cell_type": "markdown",
   "metadata": {},
   "source": [
    "## A new front for AI: Multiagent Frameworks\n",
    "\n",
    "AI that \"does stuff\":  enabling control of software or other AI models\n",
    "\n",
    "A rapidly emerging space, there are a number of popular libraries and frameworks;\n",
    "\n",
    " * Microsoft: Autogen, Copilot\n",
    " * AG2: The \"other\" autogen\n",
    " * Langchain: Langflow\n",
    " * Flowwise\n",
    " * Crew AI\n",
    " * Amazon: Bedrock flows"
   ]
  },
  {
   "cell_type": "markdown",
   "metadata": {},
   "source": [
    "\n",
    "\n",
    "## Core Concepts - Autogen\n",
    "\n",
    "\n",
    "*   The Building Blocks\n",
    "\n",
    "    *   Tools\n",
    "    *   Models\n",
    "    *   Agents\n",
    "    *   Multi-Agent Systems\n",
    "    *   Orchestration\n",
    "\n",
    "<p style=\"text-align: right;\">\n",
    "    <img src=\"https://microsoft.github.io/autogen/stable//_images/teambuilder.jpg\" width=\"800\">\n",
    "</p>"
   ]
  },
  {
   "cell_type": "markdown",
   "metadata": {},
   "source": [
    "\n",
    "\n",
    "## Agents - The \"Brains\"\n",
    "\n",
    "**Agents - The \"Brains\"**\n",
    "\n",
    "*   Agents as Reasoning Loops\n",
    "\n",
    "*   **Diagram:** (Add Visual Representation of the Loop)\n",
    "    *   Input (Messages, Events)\n",
    "    *   Reasoning Engine (LLMs, Python)\n",
    "    *   Actions\n",
    "    *   Observation (Output/Response)\n",
    "\n",
    "*   \"Agents take input, reason, act, and respond.\"\n"
   ]
  },
  {
   "cell_type": "markdown",
   "metadata": {
    "slideshow": {
     "slide_type": "slide"
    }
   },
   "source": [
    "\n",
    "\n",
    "## Single Agents and Limitations\n",
    "\n",
    "**Single Agents and Limitations**\n",
    "\n",
    "*   When Single Agents Fall Short\n",
    "*   Complex tasks with interdependent steps\n",
    "*   Difficulty in switching instructions and contexts\n",
    "*   *Analogy: Trying to change tools mid-task without hands*\n",
    "\n"
   ]
  },
  {
   "cell_type": "markdown",
   "metadata": {},
   "source": [
    "\n",
    "\n",
    "## Multi-Agent Systems - Collaboration is Key\n",
    "\n",
    "**Multi-Agent Systems - Collaboration is Key**\n",
    "\n",
    "*   The Power of Teamwork\n",
    "*   Decompose complex tasks\n",
    "*   Specialized skills, efficient workflow\n",
    "\n"
   ]
  },
  {
   "cell_type": "markdown",
   "metadata": {
    "slideshow": {
     "slide_type": "slide"
    }
   },
   "source": [
    "\n",
    "\n",
    "## Orchestration - The Conductor\n",
    "\n",
    "**Orchestration - The Conductor**\n",
    "\n",
    "*   Coordination and Direction\n",
    "*   Layer above agents, directs all\n",
    "*   Can be driven by logic or LLM\n",
    "\n",
    "*Diagram: Show Orchestrator above Agents*\n",
    "\n"
   ]
  },
  {
   "cell_type": "markdown",
   "metadata": {},
   "source": [
    "\n",
    "\n",
    "## Agent Teams\n",
    "\n",
    "**Agent Teams**\n",
    "\n",
    "*   Agent + Orchestrator = Team\n",
    "*   Compose based on task needs\n",
    "\n"
   ]
  },
  {
   "cell_type": "markdown",
   "metadata": {},
   "source": [
    "\n",
    "## Magentic One - Example Architecture\n",
    "\n",
    "\n",
    "<img src=\"https://microsoft.github.io/autogen/stable/_images/autogen-magentic-one-example.png\" width = 800>\n",
    "\n"
   ]
  },
  {
   "cell_type": "markdown",
   "metadata": {},
   "source": [
    "\n",
    "## Layered Structure\n",
    "\n",
    "**Layered Structure**\n",
    "\n",
    "*   *Visual: Layered system diagram*\n",
    "*   Core API: Framework for Agents\n",
    "*   Agent Chat: Natural Language tasks\n",
    "*   Autogen Studio: Developer Tool\n",
    "\n"
   ]
  },
  {
   "cell_type": "markdown",
   "metadata": {},
   "source": [
    "\n",
    "## Agent Chat - Task Driven\n",
    "\n",
    "**Agent Chat - Task Driven**\n",
    "\n",
    "*   Send tasks to community\n",
    "\n",
    "*Key Elements:*\n",
    "\n",
    "*   Observing the process\n",
    "*   Take Control\n",
    "*   Feedback to the agents\n"
   ]
  },
  {
   "cell_type": "markdown",
   "metadata": {},
   "source": [
    "\n",
    "## The Safety of Autogen\n",
    "\n",
    "**The Safety of Autogen**\n",
    "\n",
    "*   \"Build Secure AI\"\n",
    "*   Sandbox the Tools\n",
    "*   Human Loop\n",
    "*   Filter Data\n",
    "\n"
   ]
  },
  {
   "cell_type": "markdown",
   "metadata": {},
   "source": [
    "\n",
    "\n",
    "## Quick Start: Tutorial\n",
    "\n",
    "**Quick Start: Tutorial**\n",
    "\n",
    "*   Link to Chat\n",
    "*   Steps:\n",
    "    *   Install Dependencies\n",
    "    *   Python Setup\n",
    "\n",
    "Run `./start.sh` to create an app\n",
    "\n",
    "Click the link or go to https://localhost:8081 if running on your local machine\n"
   ]
  },
  {
   "cell_type": "markdown",
   "metadata": {},
   "source": [
    "#  Future of agents: Model Context Protocol\n",
    "\n",
    "Model Context Protocol (MCP) released by Anthropic is gaining popularity as a lightweight standard for interfacting LLMs and applications\n",
    "\n",
    "[A16Z article on MCP](https://a16z.com/a-deep-dive-into-mcp-and-the-future-of-ai-tooling/) shows a recent snapshot of the landscape:\n",
    "\n",
    "<img src=\"https://d1lamhf6l6yk6d.cloudfront.net/uploads/2025/03/250319-MCP-Market-Map-v2-x2000.png\" width=400>"
   ]
  },
  {
   "cell_type": "markdown",
   "metadata": {},
   "source": []
  }
 ],
 "metadata": {
  "kernelspec": {
   "display_name": ".venv",
   "language": "python",
   "name": "python3"
  },
  "language_info": {
   "codemirror_mode": {
    "name": "ipython",
    "version": 3
   },
   "file_extension": ".py",
   "mimetype": "text/x-python",
   "name": "python",
   "nbconvert_exporter": "python",
   "pygments_lexer": "ipython3",
   "version": "3.12.4"
  }
 },
 "nbformat": 4,
 "nbformat_minor": 2
}
