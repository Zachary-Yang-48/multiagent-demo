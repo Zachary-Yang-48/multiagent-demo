{
 "cells": [
  {
   "cell_type": "markdown",
   "metadata": {
    "slideshow": {
     "slide_type": "slide"
    }
   },
   "source": [
    "# Connecting the Bots: \n",
    "## Multi-agent AI applications\n",
    "## Jacob Albrecht\n",
    "### Applied Intelligence & Analytics, Bristol Myers Squibb\n",
    "#### April 12, 2025\n",
    "#### jacob.albrecht2@bms.com"
   ]
  },
  {
   "cell_type": "markdown",
   "metadata": {
    "slideshow": {
     "slide_type": "slide"
    }
   },
   "source": [
    "## Agenda for Today's Workshop\n",
    "\n",
    "### Overview of multi agent systems\n",
    " * Capabilities of MAS for pharma industry\n",
    " * Ingredients of MAS applications\n",
    "\n",
    "### Building a deep research agent (demo)\n",
    " * Surf the web and run code *automatically*\n",
    " * Get your computer ready to follow along\n",
    "\n",
    "<p style=\"text-align: center;\">\n",
    "    These slides 👉 <img src=\"https://raw.githubusercontent.com/chepyle/multiagent-demo/refs/heads/main/images/qrcode_chepyle.github.io.png\" width=\"240\" style=\"vertical-align: middle;\">\n",
    "</p>"
   ]
  },
  {
   "cell_type": "markdown",
   "metadata": {
    "slideshow": {
     "slide_type": "subslide"
    }
   },
   "source": [
    "\n",
    "## ⚠️ Caveat ⚠️  \n",
    "AI Agents is a moving frontier:  this snapshot of capabilites from Q1'25 will become obsolete"
   ]
  },
  {
   "cell_type": "markdown",
   "metadata": {
    "slideshow": {
     "slide_type": "subslide"
    },
    "vscode": {
     "languageId": "markdown"
    }
   },
   "source": [
    "## This workshop uses the Autogen Framework\n",
    "\n",
    "Autogen is Microsoft's agentic framework designed to enable the development of intelligent agents. It provides tools and capabilities for creating autonomous systems that can interact, learn, and adapt to various tasks and environments. This framework is part of the broader effort to advance AI technologies and their applications in real-world scenarios.\n",
    "\n",
    "To follow along you'll need:\n",
    "\n",
    " - Linux, Mac, or Windows machine with Python 3.10 or above\n",
    " - An API key - this model uses keys from [OpenRouter.ai](openrouter.ai). OpenRouter provides *many* models through an \"OpenAI compatible\" interface\n",
    " - `pip install openai autogen-agentchat autogen-ext[openai,magentic_one] autogenstudio `\n",
    " - `playwright install` is needed for web browsing\n",
    "\n",
    "### OR 👇\n"
   ]
  },
  {
   "cell_type": "markdown",
   "metadata": {
    "slideshow": {
     "slide_type": "subslide"
    }
   },
   "source": [
    "\n",
    " ## Quick start using GitHub\n",
    "\n",
    " - Use/ create a personal GitHub.com account\n",
    " - Create your own fork of the repository at https://github.com/chepyle/multiagent-demo\n",
    " - Run the repository in a GitHub Codespace"
   ]
  },
  {
   "cell_type": "markdown",
   "metadata": {
    "slideshow": {
     "slide_type": "subslide"
    },
    "vscode": {
     "languageId": "plaintext"
    }
   },
   "source": [
    "### Creating a github codespace (recommended)\n",
    "\n",
    " 1. Go to https://github.com/chepyle/multiagent-demo - contains all workshop materials \n",
    " 2. Click \"fork project\" to create your own copy\n",
    " 3. Click Code > Codespaces > Start Codespace from main branch \n",
    " \n",
    " <img src=\"https://raw.githubusercontent.com/chepyle/multiagent-demo/refs/heads/main/images/start_codespace.png\" width = 240>\n",
    " \n",
    " 4. Wait for codespace to boot and package installation (~5min).  A VSCode session will appear in browser.\n",
    " 5. Type `./run.sh` at the terminal to create an app, use password `sapa`\n",
    "\n",
    " <img src=\"https://raw.githubusercontent.com/chepyle/multiagent-demo/refs/heads/main/images/type_run.png\" width = 480>\n",
    " \n",
    " 6. Click the link or go to https://localhost:8081 if running on your local machine\n",
    "\n",
    "\n"
   ]
  },
  {
   "cell_type": "markdown",
   "metadata": {
    "slideshow": {
     "slide_type": "slide"
    }
   },
   "source": [
    "## AI applications for the Pharmaceutical Industry\n",
    "\n",
    "Healthcare is an huge opportuntiy for AI applications\n",
    "\n",
    " - General Research e.g. \n",
    "    - [AI Scientist](https://github.com/SakanaAI/AI-Scientist)\n",
    "    - [OpenAI's Deep Research](https://openai.com/index/introducing-deep-research/)\n",
    "    - [Google's AI co-Scientist](https://research.google/blog/accelerating-scientific-breakthroughs-with-an-ai-co-scientist/)\n",
    " - Discovery \n",
    "    - Drug Design\n",
    " - Development\n",
    "    - Molecular Property Prediction\n",
    "    - Process Simulation\n",
    " - Manufacturing\n",
    "    - Process Monitoring\n",
    "    - Supply Chain\n",
    " - Commercial / Enterprise\n",
    "    - IT Pipelines\n",
    "    - Forecasting\n",
    "    - Data Science\n"
   ]
  },
  {
   "cell_type": "markdown",
   "metadata": {
    "slideshow": {
     "slide_type": "subslide"
    }
   },
   "source": [
    "## A new front for AI: Multiagent Frameworks\n",
    "\n",
    "AI that \"does stuff\":  enabling control of software or other AI models\n",
    "\n",
    "A rapidly emerging space, there are a number of popular libraries and frameworks, many using low-/no-code interfaces:\n",
    "\n",
    " * [AutoGPT](https://github.com/Significant-Gravitas/AutoGPT)\n",
    " * Microsoft: [Autogen](https://microsoft.github.io/autogen/stable/), Copilot\n",
    " * [AG2](https://ag2.ai/): The \"other\" autogen\n",
    " * [Langflow](https://www.langflow.org/)\n",
    " * [Flowwise](https://flowiseai.com/)\n",
    " * [Crew AI](https://www.crewai.com/)\n",
    " * Amazon: [Bedrock flows](https://aws.amazon.com/bedrock/flows/)\n",
    "\n",
    " **Note: Coding tools 🦉 > 🐹 No code tools**"
   ]
  },
  {
   "cell_type": "markdown",
   "metadata": {
    "slideshow": {
     "slide_type": "slide"
    }
   },
   "source": [
    "\n",
    "\n",
    "## Core Concepts\n",
    "\n",
    "\n",
    "*   Multi-Agent Building Blocks\n",
    "\n",
    "    *   Tools\n",
    "    *   Models\n",
    "    *   Agents\n",
    "    *   Multi-Agent Teams\n",
    "    *   Orchestration\n",
    "    *   Termination\n",
    "\n"
   ]
  },
  {
   "cell_type": "markdown",
   "metadata": {
    "slideshow": {
     "slide_type": "subslide"
    }
   },
   "source": [
    "\n",
    "\n",
    "## Tools 🛠️\n",
    "\n",
    "Single purpose functions \n",
    "\n",
    "e.g. calculator,  database connection, user input\n"
   ]
  },
  {
   "cell_type": "markdown",
   "metadata": {
    "slideshow": {
     "slide_type": "subslide"
    }
   },
   "source": [
    "## Models 🧠\n",
    "\n",
    "Large Language Models \n",
    "\n",
    "e.g. GPT-4o, DeepSeek-R1, Claude, Llama, and others\n",
    "\n",
    "Models have different capabilities:\n",
    " * Function calling : can run code commands (tools)\n",
    " * JSON Output : can return computer-readable structured results\n",
    " * Vision : Can accept multimodal (image + text) inputs\n",
    "\n",
    "Access is through an application programming interface (API) with secret token\n",
    "\n",
    "⚠️ *A token has been generated and shared for this workshop, be careful: it is like giving out your credit card!*\n"
   ]
  },
  {
   "cell_type": "markdown",
   "metadata": {
    "slideshow": {
     "slide_type": "subslide"
    }
   },
   "source": [
    "## Agents 🧍🏻\n",
    "\n",
    "Agents are the combination of Models and Tools, along with a descripton and set of instructions\n",
    "\n",
    "e.g.  Assistant Agent, Web Surfer Agent\n",
    "\n"
   ]
  },
  {
   "cell_type": "markdown",
   "metadata": {
    "slideshow": {
     "slide_type": "subslide"
    }
   },
   "source": [
    "\n",
    "\n",
    "## Multi-Agent Teams 🧑‍🤝‍🧑\n",
    "\n",
    "Tasks can be decomoposed and assigned to multiple agents with roles and personas\n",
    "\n",
    "e.g. Writer/Editor , Resarcher/Summarizer/Verifyer teams\n",
    "\n",
    "\n",
    "More examples from Autogen Studo creator at https://multiagentbook.com/labs/ \n"
   ]
  },
  {
   "cell_type": "markdown",
   "metadata": {
    "slideshow": {
     "slide_type": "subslide"
    }
   },
   "source": [
    "\n",
    "\n",
    "## Orchestration 🤹🏻\n",
    "\n",
    "Teams of agents can be overseen and roles assigned by an Orchestrator Agent\n",
    "\n",
    "## Task 🎯\n",
    "\n",
    "User supplied objective to guide the team's activity\n",
    "\n",
    "## Termination 🛑\n",
    "\n",
    "Setting the condition to stop the task\n",
    "\n",
    "e.g. Approved result, Max # of attempts, Timeout, Max # of Tokens, User intervention\n",
    "\n"
   ]
  },
  {
   "cell_type": "markdown",
   "metadata": {
    "slideshow": {
     "slide_type": "subslide"
    }
   },
   "source": [
    "\n",
    "## Magentic One - Example Architecture\n",
    "\n",
    "\n",
    "<img src=\"https://microsoft.github.io/autogen/stable/_images/autogen-magentic-one-example.png\" width = 800>\n",
    "\n"
   ]
  },
  {
   "cell_type": "markdown",
   "metadata": {
    "slideshow": {
     "slide_type": "subslide"
    }
   },
   "source": [
    "##  Future of agents\n",
    "\n",
    "[Model Context Protocol (MCP)](https://modelcontextprotocol.io/introduction) released by Anthropic is gaining popularity as a lightweight standard for interfacting LLMs and applications\n",
    "\n",
    "[A16Z article on MCP](https://a16z.com/a-deep-dive-into-mcp-and-the-future-of-ai-tooling/) shows a recent snapshot of the landscape:\n",
    "\n",
    "<img src=\"https://d1lamhf6l6yk6d.cloudfront.net/uploads/2025/03/250319-MCP-Market-Map-v2-x2000.png\" width=600>"
   ]
  },
  {
   "cell_type": "markdown",
   "metadata": {
    "slideshow": {
     "slide_type": "subslide"
    }
   },
   "source": [
    "\n",
    "### ⚠️ Safety Caveat ⚠️  \n",
    "\n",
    "Autonomous agents carry risks and uncertainties!\n",
    " * Arbitrary code execution\n",
    " * High token utilization\n",
    " * Sending out LLM-generated results into the internet\n",
    "\n",
    "Be sure to:\n",
    " * Run in a sandboxed environment e.g. local docker or codespace\n",
    " * Place limits on token utilization costs\n",
    " * Utilize a human-in-the-loop via `UserAgent` for sensitive tasks\n"
   ]
  },
  {
   "cell_type": "markdown",
   "metadata": {
    "slideshow": {
     "slide_type": "slide"
    }
   },
   "source": [
    "### Follow along in a github codespace (recommended)\n",
    "\n",
    "✅ Go to https://github.com/chepyle/multiagent-demo - contains all workshop materials \n",
    "\n",
    "✅ Click \"fork project\" to create your own copy\n",
    "\n",
    "✅ Click Code > Codespaces > Start Codespace from main branch \n",
    " \n",
    " <img src=\"https://raw.githubusercontent.com/chepyle/multiagent-demo/refs/heads/main/images/start_codespace.png\" width = 240>\n",
    " \n",
    "✅ Wait for codespace to boot and package installation (~5min)\n",
    "\n",
    "🚀 Type `./run.sh` at the terminal to launch workshop app, use password `sapa`\n",
    "\n",
    "<img src=\"https://raw.githubusercontent.com/chepyle/multiagent-demo/refs/heads/main/images/type_run.png\" width = 480>\n",
    " \n",
    "✨ Click the link or go to https://localhost:8081"
   ]
  },
  {
   "cell_type": "markdown",
   "metadata": {
    "slideshow": {
     "slide_type": "subslide"
    }
   },
   "source": [
    "### Autogen Studio Layout\n",
    "\n",
    "<p style=\"text-align: center;\">\n",
    "    <img src=\"https://microsoft.github.io/autogen/stable//_images/teambuilder.jpg\" width=\"800\">\n",
    "</p>"
   ]
  },
  {
   "cell_type": "markdown",
   "metadata": {
    "slideshow": {
     "slide_type": "subslide"
    }
   },
   "source": [
    "## Practical Considerations\n",
    "\n",
    "**What LLM to use?**\n",
    "\n",
    "Performance: Read articles, or check leaderboards e.g. [lmarena](https://lmarena.ai/?leaderboard), [Artificial Analysis](https://artificialanalysis.ai/)\n",
    "\n",
    "Cost, Latency: compare at https://openrouter.ai/models\n",
    "\n",
    "Capabilities: Support for Tool use, output structured information and/or logprobs\n",
    "\n",
    "**Implementing code**\n",
    "\n",
    "Once a multi-agent system yield promising results, it can be exported as code for automatic testing\n",
    "\n"
   ]
  },
  {
   "cell_type": "markdown",
   "metadata": {
    "slideshow": {
     "slide_type": "subslide"
    }
   },
   "source": [
    "## Practical Considerations\n",
    "\n",
    "**Common Errors**\n",
    "\n",
    "`openai.NotFoundError: Error code: 404 - {'error': {'message': 'No endpoints found that support tool use...` \n",
    "\n",
    "The selected model does not support tools, try using OpenAI, Gemini, Qwen-Turbo\n",
    "\n",
    "`Exception: 'NoneType' object is not subscriptable` \n",
    "\n",
    "Model call did not return a result.  Can be due to latency on the provider side, but likely hitting limits of free-tier models.\n",
    "\n",
    "*\"I made a change to the team, but I dont see a difference\"* \n",
    "\n",
    "The teams and components are represented by JSON, making changes to components may not update uses elsewhere.  Edit JSON directly to make sure changes are implemented.\n",
    "\n",
    "**Other Bugs 🐛**\n",
    "\n",
    "Autogen Studio is still in development, some features may be brittle\n",
    "\n",
    "OpenRouter.ai Models may not be fully compatible with Autogen's OpenAI expectations "
   ]
  },
  {
   "cell_type": "markdown",
   "metadata": {
    "slideshow": {
     "slide_type": "subslide"
    }
   },
   "source": [
    "# Our Tasks:\n",
    "\n",
    "Web search:  \n",
    "\n",
    "**\"Search the web and summarize the current state of GLP-1 drug development, create a markdown-formatted report to document the findings, be sure to include references to your sources\"**\n",
    "\n",
    "Coder/Analyst/Web:  \n",
    "\n",
    "**Research \"innovation from China related to oncology\" , write code to create a database to store the key players and research subjects, with the goal of refreshing the database over time**"
   ]
  },
  {
   "cell_type": "markdown",
   "metadata": {
    "slideshow": {
     "slide_type": "subslide"
    }
   },
   "source": [
    "# Example Agent Files \n",
    "\n",
    "A finished version of the workshop tasks are available in the `./app.zip` folder.  \n",
    "\n",
    "To use in autogen studio run:  `./run.sh`, password `sapa`\n",
    "\n",
    "Code examples are in `./src/` Be sure to use the environment variable `OPENROUTER_API_KEY`"
   ]
  },
  {
   "cell_type": "markdown",
   "metadata": {
    "slideshow": {
     "slide_type": "slide"
    }
   },
   "source": [
    "# After the Workshop\n",
    "The code repository https://github.com/chepyle/multiagent-demo will remain public, but the API keys will be deactivated.\n",
    "\n",
    "<p style=\"text-align: center;\">\n",
    " <img src=\"https://raw.githubusercontent.com/chepyle/multiagent-demo/refs/heads/main/images/qrcode_github.com.png\" width = 240>\n",
    "</p>\n",
    "\n",
    "*To use this code after the workshop, be sure to replace any api keys and base urls with the info from your LLM provider of choice*\n",
    "\n",
    "As Autogen Studio (currently v 0.4.2) changes, this code will become obsolete, but the learning never stops!"
   ]
  }
 ],
 "metadata": {
  "kernelspec": {
   "display_name": ".venv",
   "language": "python",
   "name": "python3"
  },
  "language_info": {
   "codemirror_mode": {
    "name": "ipython",
    "version": 3
   },
   "file_extension": ".py",
   "mimetype": "text/x-python",
   "name": "python",
   "nbconvert_exporter": "python",
   "pygments_lexer": "ipython3",
   "version": "3.12.4"
  }
 },
 "nbformat": 4,
 "nbformat_minor": 2
}
